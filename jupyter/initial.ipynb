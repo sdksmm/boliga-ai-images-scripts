{
 "cells": [
  {
   "cell_type": "code",
   "execution_count": null,
   "id": "1b67957b-e3b8-4ab1-aca6-1cd581f56a55",
   "metadata": {},
   "outputs": [],
   "source": [
    "print('hello jupyter!')\n",
    "x = 10\n",
    "\n"
   ]
  },
  {
   "cell_type": "markdown",
   "id": "1f779f1d-36be-470b-99fd-c9ae5b5efe61",
   "metadata": {},
   "source": [
    "### this is markdown"
   ]
  },
  {
   "cell_type": "code",
   "execution_count": null,
   "id": "e9b47721-8316-4a6b-8f22-f95020dac28d",
   "metadata": {},
   "outputs": [],
   "source": []
  }
 ],
 "metadata": {
  "kernelspec": {
   "display_name": "Python 3 (ipykernel)",
   "language": "python",
   "name": "python3"
  },
  "language_info": {
   "codemirror_mode": {
    "name": "ipython",
    "version": 3
   },
   "file_extension": ".py",
   "mimetype": "text/x-python",
   "name": "python",
   "nbconvert_exporter": "python",
   "pygments_lexer": "ipython3",
   "version": "3.11.9"
  }
 },
 "nbformat": 4,
 "nbformat_minor": 5
}
