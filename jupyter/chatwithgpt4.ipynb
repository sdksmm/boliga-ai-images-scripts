{
 "cells": [
  {
   "cell_type": "code",
   "execution_count": 4,
   "id": "9c2685da-40f7-4597-93e7-dc1d4fee18af",
   "metadata": {},
   "outputs": [
    {
     "name": "stdin",
     "output_type": "stream",
     "text": [
      "Ask ChatGPT a question:  what is a hummingbird\n"
     ]
    },
    {
     "name": "stdout",
     "output_type": "stream",
     "text": [
      "A hummingbird is a species of bird known for their small size and distinguishing high-speed wing flapping. They belong to the family Trochilidae, and are native to the Americas, with the majority of the species in tropical and subtropical Central and South America.\n",
      "  \n",
      "Hummingbirds have compact, lightweight bodies and are among the smallest birds in the world, ranging from 7.5-13 cm in length. The smallest species, the bee hummingbird, is just 5 cm long and weighs less than 2 grams, while the largest, the giant hummingbird, reaches up to 21.6 on size and weighs 18-20 grams.\n",
      "\n",
      "They are famous for their rapid wing-flapping rates (up to 200 beats per second) which makes a distinctive humming sound from which they get their common name. This rapid beating of wings allows them to hover in mid-air, fly backwards, or change direction abruptly, skills which they use to feed from flowers. \n",
      "\n",
      "Hummingbirds have long, slender beaks and extendible tongues adapted for reaching deep into flowers to feed on nectar. They also consume small insects and spiders for essential proteins. They have an extraordinarily high metabolism to support their energetic hovering flight.\n",
      "\n",
      "Many hummingbird species have brilliantly colored, iridescent plumage, often with gorgets (flashy throat feathers). The dazzling colors result from the prism-like structure of their feather cells, which can scatter, refract, or diffract light.\n",
      "   \n",
      "The nesting habits and migratory behavior of hummingbirds are also diverse, with some species travelling up to several thousand kilometers during their migration. On the other hand, some species of hummingbirds do not migrate at all. They are solitary animals and are known to be very territorial when it comes to food sources.\n",
      "\n",
      "Hummingbirds play a vital role in the ecosystem by acting as pollinators for a wide variety of flowers. The birds unknowingly carry pollen on their beaks and feathers from flower to flower, helping the plants reproduce. \n",
      "\n",
      "Their natural predators include cats, larger birds and insects, and, as with many bird species, habitat loss is a significant threat for these birds. Climate change and the disappearance of flowering plants due to human activities also pose a risk to these creatures globally.\n"
     ]
    }
   ],
   "source": [
    "import openai\n",
    "import os\n",
    "\n",
    "# Retrieve the API key from an environment variable\n",
    "api_key = os.getenv('OPENAI_API_KEY')\n",
    "if api_key is None:\n",
    "    print(\"API Key not found. Please set the OPENAI_API_KEY environment variable.\")\n",
    "else:\n",
    "    openai.api_key = api_key\n",
    "\n",
    "    # Define the prompt here, e.g., asking for the capital of France\n",
    "    prompt = input(\"Ask ChatGPT a question: \")\n",
    "\n",
    "    # Use the 'ChatCompletion' endpoint for asking questions like this\n",
    "    response = openai.ChatCompletion.create(\n",
    "        model=\"gpt-4\",\n",
    "        messages=[\n",
    "            {\"role\": \"system\", \"content\": 'Answer as consisely as possible'},\n",
    "            {\"role\": \"user\", \"content\": prompt}\n",
    "        ]\n",
    "    )\n",
    "\n",
    "    # Extracting the response\n",
    "    print(response['choices'][0]['message']['content'])"
   ]
  },
  {
   "cell_type": "code",
   "execution_count": null,
   "id": "2f25a82e-c67d-469a-a3f3-fd9c4346a673",
   "metadata": {},
   "outputs": [],
   "source": []
  },
  {
   "cell_type": "code",
   "execution_count": null,
   "id": "6d893f15-7647-4dd6-a500-f65e2f8daa97",
   "metadata": {},
   "outputs": [],
   "source": []
  },
  {
   "cell_type": "code",
   "execution_count": null,
   "id": "04b93901-2eff-45ed-af74-16e08eee5ca2",
   "metadata": {},
   "outputs": [],
   "source": []
  },
  {
   "cell_type": "code",
   "execution_count": null,
   "id": "4dab153e-a92d-4c88-9bcc-780fb82e5315",
   "metadata": {},
   "outputs": [],
   "source": []
  },
  {
   "cell_type": "code",
   "execution_count": null,
   "id": "447e2bff-4910-463b-8377-9b524d0ec72b",
   "metadata": {},
   "outputs": [],
   "source": []
  }
 ],
 "metadata": {
  "kernelspec": {
   "display_name": "Python 3 (ipykernel)",
   "language": "python",
   "name": "python3"
  },
  "language_info": {
   "codemirror_mode": {
    "name": "ipython",
    "version": 3
   },
   "file_extension": ".py",
   "mimetype": "text/x-python",
   "name": "python",
   "nbconvert_exporter": "python",
   "pygments_lexer": "ipython3",
   "version": "3.11.9"
  }
 },
 "nbformat": 4,
 "nbformat_minor": 5
}
