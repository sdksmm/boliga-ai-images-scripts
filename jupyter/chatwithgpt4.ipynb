{
 "cells": [
  {
   "cell_type": "code",
   "execution_count": 1,
   "id": "9c2685da-40f7-4597-93e7-dc1d4fee18af",
   "metadata": {},
   "outputs": [
    {
     "name": "stdout",
     "output_type": "stream",
     "text": [
      "API Key not found. Please set the OPENAI_API_KEY environment variable.\n"
     ]
    }
   ],
   "source": [
    "import openai\n",
    "import os\n",
    "\n",
    "# Retrieve the API key from an environment variable\n",
    "api_key = os.getenv('OPENAI_API_KEY')\n",
    "if api_key is None:\n",
    "    print(\"API Key not found. Please set the OPENAI_API_KEY environment variable.\")\n",
    "else:\n",
    "    openai.api_key = api_key\n",
    "\n",
    "    # Define the prompt here, e.g., asking for the capital of France\n",
    "    prompt = 'What is the capital of France?'\n",
    "\n",
    "    # Use the 'ChatCompletion' endpoint for asking questions like this\n",
    "    response = openai.ChatCompletion.create(\n",
    "        model=\"gpt-4\",\n",
    "        messages=[\n",
    "            {\"role\": \"user\", \"content\": prompt}\n",
    "        ]\n",
    "    )\n",
    "\n",
    "    # Extracting the response\n",
    "    print(response['choices'][0]['message']['content'])\n",
    "\n"
   ]
  },
  {
   "cell_type": "code",
   "execution_count": null,
   "id": "2f25a82e-c67d-469a-a3f3-fd9c4346a673",
   "metadata": {},
   "outputs": [],
   "source": []
  },
  {
   "cell_type": "code",
   "execution_count": null,
   "id": "6d893f15-7647-4dd6-a500-f65e2f8daa97",
   "metadata": {},
   "outputs": [],
   "source": []
  },
  {
   "cell_type": "code",
   "execution_count": null,
   "id": "04b93901-2eff-45ed-af74-16e08eee5ca2",
   "metadata": {},
   "outputs": [],
   "source": []
  },
  {
   "cell_type": "code",
   "execution_count": null,
   "id": "4dab153e-a92d-4c88-9bcc-780fb82e5315",
   "metadata": {},
   "outputs": [],
   "source": []
  },
  {
   "cell_type": "code",
   "execution_count": null,
   "id": "447e2bff-4910-463b-8377-9b524d0ec72b",
   "metadata": {},
   "outputs": [],
   "source": []
  }
 ],
 "metadata": {
  "kernelspec": {
   "display_name": "Python 3 (ipykernel)",
   "language": "python",
   "name": "python3"
  },
  "language_info": {
   "codemirror_mode": {
    "name": "ipython",
    "version": 3
   },
   "file_extension": ".py",
   "mimetype": "text/x-python",
   "name": "python",
   "nbconvert_exporter": "python",
   "pygments_lexer": "ipython3",
   "version": "3.11.9"
  }
 },
 "nbformat": 4,
 "nbformat_minor": 5
}
