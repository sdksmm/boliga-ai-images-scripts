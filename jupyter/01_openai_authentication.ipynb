{
 "cells": [
  {
   "cell_type": "code",
   "execution_count": 5,
   "id": "a35805d9-1ceb-4eb6-9e40-1c77cf21fa60",
   "metadata": {},
   "outputs": [],
   "source": [
    "# !pip install -q openai\n",
    "import openai\n",
    "import os"
   ]
  },
  {
   "cell_type": "code",
   "execution_count": 10,
   "id": "deb30bf2-00eb-44c7-af8e-28438b9cfe77",
   "metadata": {},
   "outputs": [],
   "source": [
    "# three methods to load open api key\n",
    "# --------------------------------------------\n",
    "# os.environ['x'] = 'abc'\n",
    "# os.getenv('x')\n",
    "# os.environ['OPENAI_API_KEY'] = ''\n",
    "# openai.api_key = os.getenv('OPENAI_API_KEY')\n",
    "#----------------------------------------------\n",
    "# import getpass\n",
    "# key = getpass.getpass('Paste your API Key:')\n",
    "# openai.api_key = key\n",
    "#----------------------------------------------\n",
    "openai.api_key = open('key.txt').read().strip('\\n')\n",
    "#----------------------------------------------\n"
   ]
  }
 ],
 "metadata": {
  "kernelspec": {
   "display_name": "Python 3 (ipykernel)",
   "language": "python",
   "name": "python3"
  },
  "language_info": {
   "codemirror_mode": {
    "name": "ipython",
    "version": 3
   },
   "file_extension": ".py",
   "mimetype": "text/x-python",
   "name": "python",
   "nbconvert_exporter": "python",
   "pygments_lexer": "ipython3",
   "version": "3.11.9"
  }
 },
 "nbformat": 4,
 "nbformat_minor": 5
}
