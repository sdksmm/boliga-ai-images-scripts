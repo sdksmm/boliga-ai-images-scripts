{
 "cells": [
  {
   "cell_type": "code",
   "execution_count": 33,
   "id": "a35805d9-1ceb-4eb6-9e40-1c77cf21fa60",
   "metadata": {},
   "outputs": [],
   "source": [
    "# !pip install -q openai\n",
    "import openai\n",
    "import os"
   ]
  },
  {
   "cell_type": "code",
   "execution_count": 34,
   "id": "deb30bf2-00eb-44c7-af8e-28438b9cfe77",
   "metadata": {},
   "outputs": [],
   "source": [
    "# four methods to load open api key\n",
    "# --------------------------------------------\n",
    "# 1: type the key directly into jupyter,\n",
    "# os.environ['OPENAI_API_KEY'] = 'your-api-key'\n",
    "#\n",
    "# 2: put the api key in system environment in windows, call it OPENAI_API_KEY and retrieve it below (restart windows to take effect)\n",
    "api_key = os.getenv('OPENAI_API_KEY')\n",
    "if api_key is None:\n",
    "    print(\"API Key not found. Please set the OPENAI_API_KEY environment variable.\")\n",
    "else:\n",
    "    openai.api_key = api_key\n",
    "    \n",
    "# 3: prompt the user for the api-key\n",
    "# import getpass\n",
    "# key = getpass.getpass('Paste your API Key:')\n",
    "# openai.api_key = key\n",
    "#\n",
    "# 4: read the api-key from a key.txt file located on the root. \n",
    "#    This is not a recommendend procedure and violates OpenAI \n",
    "#    the file will only contain the api key, nothing else. \n",
    "# openai.api_key = open('key.txt').read().strip('\\n')\n",
    "#----------------------------------------------"
   ]
  },
  {
   "cell_type": "code",
   "execution_count": 35,
   "id": "bf543117-113e-40a8-8a90-09cc7c1245cb",
   "metadata": {},
   "outputs": [
    {
     "name": "stdin",
     "output_type": "stream",
     "text": [
      "Ask ChatGPT a question:  capital of iran\n"
     ]
    },
    {
     "name": "stdout",
     "output_type": "stream",
     "text": [
      "Tehran\n",
      "total tokens used:  25\n"
     ]
    }
   ],
   "source": [
    "    # Define the prompt here, e.g., asking a question\n",
    "    import getpass\n",
    "    prompt = input(\"Ask ChatGPT a question: \")\n",
    "\n",
    "    # Use the 'ChatCompletion' endpoint for asking questions like this\n",
    "    response = openai.ChatCompletion.create(\n",
    "        model=\"gpt-4\",\n",
    "        messages=[\n",
    "            {\"role\": \"system\", \"content\": 'Answer as consisely as possible'},\n",
    "            {\"role\": \"user\", \"content\": prompt}\n",
    "        ]\n",
    "    )\n",
    "\n",
    "    # Extracting the response\n",
    "    print(response['choices'][0]['message']['content'])\n",
    "    print(\"total tokens used: \", response['usage']['total_tokens'])\n"
   ]
  },
  {
   "cell_type": "code",
   "execution_count": null,
   "id": "5ae24c27-4d03-48cf-96f0-39fa004f7d5a",
   "metadata": {},
   "outputs": [],
   "source": []
  }
 ],
 "metadata": {
  "kernelspec": {
   "display_name": "Python 3 (ipykernel)",
   "language": "python",
   "name": "python3"
  },
  "language_info": {
   "codemirror_mode": {
    "name": "ipython",
    "version": 3
   },
   "file_extension": ".py",
   "mimetype": "text/x-python",
   "name": "python",
   "nbconvert_exporter": "python",
   "pygments_lexer": "ipython3",
   "version": "3.11.9"
  }
 },
 "nbformat": 4,
 "nbformat_minor": 5
}
