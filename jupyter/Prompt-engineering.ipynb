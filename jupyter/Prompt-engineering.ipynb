{
 "cells": [
  {
   "cell_type": "code",
   "execution_count": null,
   "id": "b1bcd133-6cd7-4345-9b1b-fc84d5fb2881",
   "metadata": {},
   "outputs": [],
   "source": [
    "from dotenv import load_dotenv\n",
    "import os\n",
    "\n",
    "# Assuming your .env folder is in your project's root directory and contains the file python.envfile\n",
    "dotenv_path = os.path.join(os.path.dirname(__file__), '.env', 'python.envfile')\n",
    "load_dotenv(dotenv_path=dotenv_path)\n",
    "\n",
    "# Now, OPENAI_API_KEY should be available as an environment variable\n",
    "openai.api_key = os.getenv('OPENAI_API_KEY')\n",
    "\n",
    "# Use the API as needed\n",
    "# Example: Creating an assistant (adjust the method according to the actual OpenAI client library usage)\n",
    "assistant = openai.Assistant.create(\n",
    "    name=\"openai python assistant\",\n",
    "    instructions=\"you're an openai and python expert and provide feedback on commands I give you\",\n",
    "    tools=[{'type': 'retrieval'}],\n",
    "    model='gpt-4'\n",
    ")\n",
    "\n"
   ]
  }
 ],
 "metadata": {
  "kernelspec": {
   "display_name": "Python 3 (ipykernel)",
   "language": "python",
   "name": "python3"
  },
  "language_info": {
   "codemirror_mode": {
    "name": "ipython",
    "version": 3
   },
   "file_extension": ".py",
   "mimetype": "text/x-python",
   "name": "python",
   "nbconvert_exporter": "python",
   "pygments_lexer": "ipython3",
   "version": "3.11.9"
  }
 },
 "nbformat": 4,
 "nbformat_minor": 5
}
